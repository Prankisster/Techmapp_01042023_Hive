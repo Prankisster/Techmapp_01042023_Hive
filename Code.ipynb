{
 "cells": [
  {
   "cell_type": "code",
   "execution_count": 1,
   "id": "4aa85d33",
   "metadata": {},
   "outputs": [],
   "source": [
    "import pandas as pd\n",
    "df = pd.read_excel('baseDataSet_1.xlsx')\n",
    "df.head\n",
    "data=[]"
   ]
  },
  {
   "cell_type": "code",
   "execution_count": null,
   "id": "d17e751a",
   "metadata": {},
   "outputs": [],
   "source": [
    "# Each Parameter is given weightage - 40% to Verbal Comprehension , 40% to Perceptual Reasoning and 20% to Efficiency\n",
    "# This break-up is based on papers published regarding the testing of IQ"
   ]
  },
  {
   "cell_type": "code",
   "execution_count": 2,
   "id": "d8398596",
   "metadata": {},
   "outputs": [],
   "source": [
    "df1 = df.reset_index()['courseAptitude']\n",
    "df2 = df.reset_index()['verbalComprehension']\n",
    "df3 = df.reset_index()['perceptualReasoning']\n",
    "df4 = df.reset_index()['efficiency(Memory + Speed)']"
   ]
  },
  {
   "cell_type": "code",
   "execution_count": 3,
   "id": "e022881a",
   "metadata": {},
   "outputs": [],
   "source": [
    "#normalize function below to put the parameters of the base data set between 0 to 1"
   ]
  },
  {
   "cell_type": "code",
   "execution_count": 4,
   "id": "cbcd302c",
   "metadata": {},
   "outputs": [],
   "source": [
    "def normalize(num, min_num, max_num):\n",
    "    return (num - min_num) / (max_num - min_num)\n"
   ]
  },
  {
   "cell_type": "code",
   "execution_count": 5,
   "id": "7662bbca",
   "metadata": {},
   "outputs": [],
   "source": [
    "#On reading papers we found out that the avergae change in percentage on their performance is 5%, so we have taken this to be the baseline in the start. \n",
    "#Depending on the indiivisual grasping power of the topic , this number or percentage will vary and on implementing the algorithm we can keep record of the user's data. \n",
    "#This data set can be used to predict the performance of the user for his future learining.  "
   ]
  },
  {
   "cell_type": "code",
   "execution_count": 6,
   "id": "be523b82",
   "metadata": {},
   "outputs": [],
   "source": [
    "df_1=[]\n",
    "df_2=[]\n",
    "#z = 0.05\n",
    "z = 0.05\n",
    "data.append(z)\n",
    "def cus_range():\n",
    "    for i in range(0,250):\n",
    "        x1 = z*df1[i]+ df1[i]\n",
    "        x2 = df1[i]*(1-z)\n",
    "        if x1>0 and x2>0:\n",
    "            df_1[i] = round(x1,2)\n",
    "            df_2[i] = round(x2,2)    "
   ]
  },
  {
   "cell_type": "code",
   "execution_count": 7,
   "id": "897138b1",
   "metadata": {},
   "outputs": [],
   "source": [
    "#the following code normalizes the parameters of the Aptiude test which is stored in the vairbales below. \n",
    "#These values will keep changing and help in creating the dataset of performance for the indivisual"
   ]
  },
  {
   "cell_type": "code",
   "execution_count": 8,
   "id": "25712deb",
   "metadata": {},
   "outputs": [],
   "source": [
    "df2_norm = []\n",
    "df3_norm = []\n",
    "df4_norm = []\n",
    "for i in range(0,250):\n",
    "    df2_norm.append(normalize(df2[i], 0, 1))\n",
    "    df3_norm.append(normalize(df3[i], 0, 1))\n",
    "    df4_norm.append(normalize(df4[i], 0, 1))\n"
   ]
  },
  {
   "cell_type": "code",
   "execution_count": 9,
   "id": "24b24258",
   "metadata": {},
   "outputs": [],
   "source": [
    "#this creates a standard level for the individual growth namely 5% change depending on the marks of the individual."
   ]
  },
  {
   "cell_type": "code",
   "execution_count": 10,
   "id": "1c515ce4",
   "metadata": {},
   "outputs": [],
   "source": [
    "for i in range(0,250):\n",
    "    x1 = z*df1[i]+ df1[i]\n",
    "    x2 = df1[i]*(1-z)\n",
    "    if x1>0 and x2>0:\n",
    "        df_1.append(round(x1,2))\n",
    "        df_2.append(round(x2,2))\n"
   ]
  },
  {
   "cell_type": "code",
   "execution_count": 11,
   "id": "a6ecddb4",
   "metadata": {},
   "outputs": [],
   "source": [
    "df_user_iq = int(input())\n",
    "percentage_user = (df_user_iq / 250)"
   ]
  },
  {
   "cell_type": "code",
   "execution_count": 12,
   "id": "6b5384be",
   "metadata": {},
   "outputs": [],
   "source": [
    "#depending on the score of the aptitude test we have divvied it into 3 levels - beginner(0-84) , intermediate(85-168) , advanced(168+)\n"
   ]
  },
  {
   "cell_type": "code",
   "execution_count": 13,
   "id": "f53b5fed",
   "metadata": {},
   "outputs": [
    {
     "name": "stdout",
     "output_type": "stream",
     "text": [
      "Beginner Course\n"
     ]
    }
   ],
   "source": [
    "if( 0<df_user_iq and df_user_iq<=84 ):\n",
    "    print(\"Beginner Course\")\n",
    "elif(85 < df_user_iq and df_user_iq <= 168):\n",
    "    print(\"Intermediate Course\")\n",
    "elif(168 < df_user_iq):\n",
    "    print(\"Advanced Course\")"
   ]
  },
  {
   "cell_type": "code",
   "execution_count": 14,
   "id": "72f84b94",
   "metadata": {},
   "outputs": [],
   "source": [
    "# the follwoing stores the questions (in the order of the paraments of IQ) that were answered correctly by the user in his first course assesment.\n",
    "# We have taken the test to have 10 questions."
   ]
  },
  {
   "cell_type": "code",
   "execution_count": 15,
   "id": "3de43144",
   "metadata": {},
   "outputs": [],
   "source": [
    "df2_ass1 = int(input())\n",
    "df3_ass1 = int(input())\n",
    "df4_ass1 = int(input())\n",
    "ch =[]\n",
    "level = 1"
   ]
  },
  {
   "cell_type": "code",
   "execution_count": null,
   "id": "e82fe083",
   "metadata": {},
   "outputs": [],
   "source": [
    "# THe follwing code scales up the values of the assesment to measure the IQ score changes."
   ]
  },
  {
   "cell_type": "code",
   "execution_count": 17,
   "id": "bc5d6ca1",
   "metadata": {},
   "outputs": [],
   "source": [
    "val1_df2_ass1 = (df2_ass1/10)*100\n",
    "val1_df3_ass1 = (df3_ass1/10)*100\n",
    "val1_df4_ass1 = (df4_ass1/10)*50\n",
    "result_ass1 = (val1_df2_ass1*0.4) + (val1_df3_ass1*0.4) + (val1_df4_ass1*0.2)\n",
    "percentage_ass1 = (result_ass1/250)\n",
    "percentage_change = (percentage_ass1-percentage_user)*100"
   ]
  },
  {
   "cell_type": "code",
   "execution_count": 18,
   "id": "c6f7954c",
   "metadata": {},
   "outputs": [
    {
     "data": {
      "text/plain": [
       "-2.0000000000000018"
      ]
     },
     "execution_count": 18,
     "metadata": {},
     "output_type": "execute_result"
    }
   ],
   "source": [
    "percentage_change"
   ]
  },
  {
   "cell_type": "code",
   "execution_count": 19,
   "id": "3f402459",
   "metadata": {},
   "outputs": [
    {
     "data": {
      "text/plain": [
       "51.0"
      ]
     },
     "execution_count": 19,
     "metadata": {},
     "output_type": "execute_result"
    }
   ],
   "source": [
    "result_ass1"
   ]
  },
  {
   "cell_type": "code",
   "execution_count": null,
   "id": "5228e5d5",
   "metadata": {},
   "outputs": [],
   "source": [
    "# the following code is required to calculate the percentage change in learning growth.\n",
    "# the results are stored in the variable data and this dataset will be used to predict the change in learning for the individual."
   ]
  },
  {
   "cell_type": "code",
   "execution_count": 21,
   "id": "09def1db",
   "metadata": {},
   "outputs": [],
   "source": [
    "original = 0\n",
    "def change(current):\n",
    "    if current > df_1[df_user_iq]:\n",
    "        original = df_1[df_user_iq]\n",
    "    elif current < df_2[df_user_iq]:\n",
    "        original = df_2[df_user_iq]\n",
    "    elif df_2[df_user_iq] <current and current < df_1[df_user_iq]:\n",
    "        original = df_user_iq\n",
    "    delta = ((current - original)/current)\n",
    "    return delta"
   ]
  },
  {
   "cell_type": "code",
   "execution_count": 61,
   "id": "5afc5366",
   "metadata": {},
   "outputs": [
    {
     "data": {
      "text/plain": [
       "0"
      ]
     },
     "execution_count": 61,
     "metadata": {},
     "output_type": "execute_result"
    }
   ],
   "source": [
    "original"
   ]
  },
  {
   "cell_type": "code",
   "execution_count": 22,
   "id": "a2f7b997",
   "metadata": {},
   "outputs": [],
   "source": [
    "delta=change(result_ass1)\n",
    "ch.append(delta)\n",
    "final = 0\n",
    "for i in range (0,level):\n",
    "    final = ch[i]+final\n",
    "final = final/level\n",
    "z = z+final\n"
   ]
  },
  {
   "cell_type": "code",
   "execution_count": 23,
   "id": "e03f83f6",
   "metadata": {},
   "outputs": [],
   "source": [
    "data.append(z)"
   ]
  },
  {
   "cell_type": "code",
   "execution_count": 24,
   "id": "91c6189e",
   "metadata": {},
   "outputs": [],
   "source": [
    "df_11=[]\n",
    "df_12=[]\n",
    "for i in range(0,250):\n",
    "    x1 = z*df1[i]+ df1[i]\n",
    "    x2 = df1[i]*(1-z)\n",
    "    if x1>0 and x2>0:\n",
    "        df_11.append(round(x1,2))\n",
    "        df_12.append(round(x2,2))"
   ]
  },
  {
   "cell_type": "code",
   "execution_count": 25,
   "id": "cb465566",
   "metadata": {},
   "outputs": [
    {
     "data": {
      "text/plain": [
       "[0.05, -0.011764705882352913]"
      ]
     },
     "execution_count": 25,
     "metadata": {},
     "output_type": "execute_result"
    }
   ],
   "source": [
    "data"
   ]
  },
  {
   "cell_type": "code",
   "execution_count": 26,
   "id": "fb9f51f9",
   "metadata": {},
   "outputs": [
    {
     "data": {
      "image/png": "[encoded data removed]",
      "text/plain": [
       "<Figure size 800x600 with 1 Axes>"
      ]
     },
     "metadata": {},
     "output_type": "display_data"
    }
   ],
   "source": [
    "import matplotlib.pyplot as plt\n",
    "import numpy as np\n",
    "\n",
    "# Generate some data for the bar graph\n",
    "x = np.array(['Verbal', 'Perceptional', 'Efficiency'])\n",
    "y = np.array([df2[df_user_iq], df3[df_user_iq], df4[df_user_iq]])\n",
    "\n",
    "# Create a figure with a larger size\n",
    "plt.figure(figsize=(8, 6))\n",
    "\n",
    "# Create a bar graph\n",
    "plt.bar(x, y)\n",
    "\n",
    "# Adjust the spacing between the bars\n",
    "plt.subplots_adjust(left=0.1, bottom=0.1, right=0.9, top=0.9, wspace=0.4, hspace=0.4)\n",
    "\n",
    "# Add labels and title to the graph\n",
    "plt.xlabel('Parameters Tested')\n",
    "plt.ylabel('Values')\n",
    "plt.title('Aptitude Assesment')\n",
    "\n",
    "# Show the graph\n",
    "plt.show()\n"
   ]
  },
  {
   "cell_type": "code",
   "execution_count": 33,
   "id": "7a20b30c",
   "metadata": {},
   "outputs": [
    {
     "data": {
      "image/png": "[encoded data removed]",
      "text/plain": [
       "<Figure size 800x600 with 1 Axes>"
      ]
     },
     "metadata": {},
     "output_type": "display_data"
    }
   ],
   "source": [
    "import matplotlib.pyplot as plt\n",
    "import numpy as np\n",
    "\n",
    "# Generate some data for the bar graph\n",
    "x = np.array(['Verbal', 'Perceptional', 'Efficiency'])\n",
    "y = np.array([df2[result_ass1], df3[result_ass1], df4[result_ass1]])\n",
    "\n",
    "# Create a figure with a larger size\n",
    "plt.figure(figsize=(8, 6))\n",
    "\n",
    "# Create a bar graph\n",
    "plt.bar(x, y)\n",
    "\n",
    "# Adjust the spacing between the bars\n",
    "plt.subplots_adjust(left=0.1, bottom=0.1, right=0.9, top=0.9, wspace=0.4, hspace=0.4)\n",
    "\n",
    "# Add labels and title to the graph\n",
    "plt.xlabel('Parameters Tested')\n",
    "plt.ylabel('Values')\n",
    "plt.title('Course Assessment-1')\n",
    "\n",
    "# Show the graph\n",
    "plt.show()\n"
   ]
  }
 ],
 "metadata": {
  "kernelspec": {
   "display_name": "Python 3 (ipykernel)",
   "language": "python",
   "name": "python3"
  },
  "language_info": {
   "codemirror_mode": {
    "name": "ipython",
    "version": 3
   },
   "file_extension": ".py",
   "mimetype": "text/x-python",
   "name": "python",
   "nbconvert_exporter": "python",
   "pygments_lexer": "ipython3",
   "version": "3.9.13"
  }
 },
 "nbformat": 4,
 "nbformat_minor": 5
}
